{
 "cells": [
  {
   "cell_type": "code",
   "execution_count": 1,
   "id": "520b6c75-925e-4de5-bd9a-ed6a1f80eeb0",
   "metadata": {
    "tags": []
   },
   "outputs": [],
   "source": [
    "# Import pandas\n",
    "import pandas as pd\n",
    "#Avoid errors when renaming columns in the same dataframe: https://pandas.pydata.org/pandas-docs/stable/user_guide/indexing.html#returning-a-view-versus-a-copy\n",
    "pd.options.mode.copy_on_write = True"
   ]
  },
  {
   "cell_type": "code",
   "execution_count": 2,
   "id": "cc7fa726-c2fd-4cfd-9970-7da5371638be",
   "metadata": {
    "tags": []
   },
   "outputs": [],
   "source": [
    "# Load in the listings data\n",
    "df=pd.read_csv('data/listings.csv')"
   ]
  },
  {
   "cell_type": "markdown",
   "id": "859bfd59-1ab7-4b81-9953-7b88ff7cc1bb",
   "metadata": {},
   "source": [
    "####  Exercise 1: Create a bar chart and dataframe of top 10 Neigborhoods that have the most expensive listsings on average. \n",
    "Our goal is to make a chart reflecting the top 10 most expensive Neighborhoods.\n",
    "This is a little dubious - we assign \"expensive\" by calculating the average cost of \n",
    "an AirBnB in each neighborhood.\n",
    "\n",
    "1. Make a dataframe that sorts the neighborhood field by decending price.  \n",
    "1. Use head to cut back top the top 10\n",
    "1. Use pandas.plot.barh to generate a histogram (see [this](https://pandas.pydata.org/pandas-docs/stable/reference/api/pandas.DataFrame.plot.barh.html) wiki for details on pandas.plot.barh)\n",
    "1. Display the data that you used to create the bar chart as a table with neighborhood and average price as the columns.  You want this to match the pivot that you create in youur dashboard"
   ]
  },
  {
   "cell_type": "code",
   "execution_count": 3,
   "id": "52f83939-3f09-40ac-baab-794afa048f92",
   "metadata": {
    "tags": []
   },
   "outputs": [
    {
     "data": {
      "text/plain": [
       "<Axes: ylabel='neighbourhood'>"
      ]
     },
     "execution_count": 3,
     "metadata": {},
     "output_type": "execute_result"
    },
    {
     "data": {
      "image/png": "[encoded data removed]",
      "text/plain": [
       "<Figure size 640x480 with 1 Axes>"
      ]
     },
     "metadata": {},
     "output_type": "display_data"
    }
   ],
   "source": [
    "# our goal is to make a chart reflecting the top 10 most expensive Neighborhoods\n",
    "# This is a little dubious - we assign \"expensive\" by calculating the average cost of \n",
    "# an AirBnB in each neighborhood, then we take the top ten and weight each slice \n",
    "# by the average value.\n",
    "#\n",
    "# make a dataframe that sorts the neighborhood field by decending price.  \n",
    "# Use head to cut back top the top 10. Then, use df.plot.barh to generate a histogram.\n",
    "\n",
    "\n",
    "#Grouping neighbourhood by price to find the average price. Also sort the values in descending order while resetting the index to properly have rows from greatest to least.\n",
    "df_neigh_sort = df.groupby('neighbourhood')['price'].agg(['mean', 'count']).sort_values(by='mean', ascending=False).reset_index()\n",
    "\n",
    "#Extract the top 10 expensive neighbourhoods\n",
    "df_neigh_exp_10 = df_neigh_sort.head(10)\n",
    "\n",
    "#Renaming price to average_price\n",
    "df_neigh_exp_10.rename(columns={'mean':'average_price'},inplace=True)\n",
    "\n",
    "#Create barchart using .barh. Also sort in descending order\n",
    "df_neigh_exp_10.sort_values(by='average_price').plot.barh(x='neighbourhood', y='average_price')"
   ]
  },
  {
   "cell_type": "code",
   "execution_count": 4,
   "id": "f96404b4-04de-4365-b11c-ceea9ef92468",
   "metadata": {
    "tags": []
   },
   "outputs": [
    {
     "data": {
      "text/html": [
       "<div>\n",
       "<style scoped>\n",
       "    .dataframe tbody tr th:only-of-type {\n",
       "        vertical-align: middle;\n",
       "    }\n",
       "\n",
       "    .dataframe tbody tr th {\n",
       "        vertical-align: top;\n",
       "    }\n",
       "\n",
       "    .dataframe thead th {\n",
       "        text-align: right;\n",
       "    }\n",
       "</style>\n",
       "<table border=\"1\" class=\"dataframe\">\n",
       "  <thead>\n",
       "    <tr style=\"text-align: right;\">\n",
       "      <th></th>\n",
       "      <th>neighbourhood</th>\n",
       "      <th>average_price</th>\n",
       "      <th>count</th>\n",
       "    </tr>\n",
       "  </thead>\n",
       "  <tbody>\n",
       "    <tr>\n",
       "      <th>0</th>\n",
       "      <td>Fort Wadsworth</td>\n",
       "      <td>800.000000</td>\n",
       "      <td>1</td>\n",
       "    </tr>\n",
       "    <tr>\n",
       "      <th>1</th>\n",
       "      <td>Woodrow</td>\n",
       "      <td>700.000000</td>\n",
       "      <td>1</td>\n",
       "    </tr>\n",
       "    <tr>\n",
       "      <th>2</th>\n",
       "      <td>Sea Gate</td>\n",
       "      <td>418.230769</td>\n",
       "      <td>13</td>\n",
       "    </tr>\n",
       "    <tr>\n",
       "      <th>3</th>\n",
       "      <td>Tribeca</td>\n",
       "      <td>381.107143</td>\n",
       "      <td>196</td>\n",
       "    </tr>\n",
       "    <tr>\n",
       "      <th>4</th>\n",
       "      <td>Flatiron District</td>\n",
       "      <td>367.415584</td>\n",
       "      <td>77</td>\n",
       "    </tr>\n",
       "    <tr>\n",
       "      <th>5</th>\n",
       "      <td>Briarwood</td>\n",
       "      <td>366.162162</td>\n",
       "      <td>37</td>\n",
       "    </tr>\n",
       "    <tr>\n",
       "      <th>6</th>\n",
       "      <td>Financial District</td>\n",
       "      <td>335.385057</td>\n",
       "      <td>522</td>\n",
       "    </tr>\n",
       "    <tr>\n",
       "      <th>7</th>\n",
       "      <td>Willowbrook</td>\n",
       "      <td>309.000000</td>\n",
       "      <td>1</td>\n",
       "    </tr>\n",
       "    <tr>\n",
       "      <th>8</th>\n",
       "      <td>Tottenville</td>\n",
       "      <td>309.000000</td>\n",
       "      <td>1</td>\n",
       "    </tr>\n",
       "    <tr>\n",
       "      <th>9</th>\n",
       "      <td>Prince's Bay</td>\n",
       "      <td>300.000000</td>\n",
       "      <td>3</td>\n",
       "    </tr>\n",
       "  </tbody>\n",
       "</table>\n",
       "</div>"
      ],
      "text/plain": [
       "        neighbourhood  average_price  count\n",
       "0      Fort Wadsworth     800.000000      1\n",
       "1             Woodrow     700.000000      1\n",
       "2            Sea Gate     418.230769     13\n",
       "3             Tribeca     381.107143    196\n",
       "4   Flatiron District     367.415584     77\n",
       "5           Briarwood     366.162162     37\n",
       "6  Financial District     335.385057    522\n",
       "7         Willowbrook     309.000000      1\n",
       "8         Tottenville     309.000000      1\n",
       "9        Prince's Bay     300.000000      3"
      ]
     },
     "execution_count": 4,
     "metadata": {},
     "output_type": "execute_result"
    }
   ],
   "source": [
    "# Now, display the top 10 datframe you created as a table with columns\n",
    "# neighbourhood and price\n",
    "\n",
    "df_neigh_exp_10"
   ]
  },
  {
   "cell_type": "markdown",
   "id": "0eecec35-4f94-4faf-9d98-f16211801ffd",
   "metadata": {},
   "source": [
    "####  Exercise 2: Create a bar chart and dataframe of top 10 Neigborhoods that have the LEAST expensive listsings on average. \n",
    "\n",
    "Do the same thing you just did, but get the 10 least expensive neighborhoods.  Sort them from lowest average price to highest.  Bew wure to provide a pivot table."
   ]
  },
  {
   "cell_type": "code",
   "execution_count": 5,
   "id": "b1712997-2ab1-4dee-b506-f448b4c0829e",
   "metadata": {
    "tags": []
   },
   "outputs": [
    {
     "data": {
      "text/plain": [
       "<Axes: ylabel='neighbourhood'>"
      ]
     },
     "execution_count": 5,
     "metadata": {},
     "output_type": "execute_result"
    },
    {
     "data": {
      "image/png": "[encoded data removed]",
      "text/plain": [
       "<Figure size 640x480 with 1 Axes>"
      ]
     },
     "metadata": {},
     "output_type": "display_data"
    }
   ],
   "source": [
    "# Here we make the same chart using the bottom 10 Neighborhoods\n",
    "# by average price.  We sort ascending in this one.\n",
    "\n",
    "#Use the sorted dataframe to get the last 10 values. Values are automatically sorted in ascending order.\n",
    "df_neigh_cheap = df_neigh_sort.tail(10)\n",
    "\n",
    "#Rename mean in new dataframe\n",
    "df_neigh_cheap.rename(columns={'mean':'average_price'},inplace=True)\n",
    "\n",
    "#Plot using barh\n",
    "df_neigh_cheap.plot.barh(x='neighbourhood', y='average_price')"
   ]
  },
  {
   "cell_type": "code",
   "execution_count": 6,
   "id": "92a1d4e4-4bae-411b-aee8-3d41b89c6272",
   "metadata": {
    "tags": []
   },
   "outputs": [
    {
     "data": {
      "text/html": [
       "<div>\n",
       "<style scoped>\n",
       "    .dataframe tbody tr th:only-of-type {\n",
       "        vertical-align: middle;\n",
       "    }\n",
       "\n",
       "    .dataframe tbody tr th {\n",
       "        vertical-align: top;\n",
       "    }\n",
       "\n",
       "    .dataframe thead th {\n",
       "        text-align: right;\n",
       "    }\n",
       "</style>\n",
       "<table border=\"1\" class=\"dataframe\">\n",
       "  <thead>\n",
       "    <tr style=\"text-align: right;\">\n",
       "      <th></th>\n",
       "      <th>neighbourhood</th>\n",
       "      <th>average_price</th>\n",
       "      <th>count</th>\n",
       "    </tr>\n",
       "  </thead>\n",
       "  <tbody>\n",
       "    <tr>\n",
       "      <th>221</th>\n",
       "      <td>South Beach</td>\n",
       "      <td>45.000000</td>\n",
       "      <td>4</td>\n",
       "    </tr>\n",
       "    <tr>\n",
       "      <th>220</th>\n",
       "      <td>Bull's Head</td>\n",
       "      <td>49.666667</td>\n",
       "      <td>3</td>\n",
       "    </tr>\n",
       "    <tr>\n",
       "      <th>219</th>\n",
       "      <td>Port Richmond</td>\n",
       "      <td>51.222222</td>\n",
       "      <td>9</td>\n",
       "    </tr>\n",
       "    <tr>\n",
       "      <th>218</th>\n",
       "      <td>Soundview</td>\n",
       "      <td>52.055556</td>\n",
       "      <td>18</td>\n",
       "    </tr>\n",
       "    <tr>\n",
       "      <th>217</th>\n",
       "      <td>New Brighton</td>\n",
       "      <td>52.250000</td>\n",
       "      <td>4</td>\n",
       "    </tr>\n",
       "    <tr>\n",
       "      <th>216</th>\n",
       "      <td>Bay Terrace, Staten Island</td>\n",
       "      <td>55.000000</td>\n",
       "      <td>1</td>\n",
       "    </tr>\n",
       "    <tr>\n",
       "      <th>215</th>\n",
       "      <td>Hunts Point</td>\n",
       "      <td>56.583333</td>\n",
       "      <td>24</td>\n",
       "    </tr>\n",
       "    <tr>\n",
       "      <th>214</th>\n",
       "      <td>University Heights</td>\n",
       "      <td>57.826087</td>\n",
       "      <td>23</td>\n",
       "    </tr>\n",
       "    <tr>\n",
       "      <th>213</th>\n",
       "      <td>Grant City</td>\n",
       "      <td>58.400000</td>\n",
       "      <td>10</td>\n",
       "    </tr>\n",
       "    <tr>\n",
       "      <th>212</th>\n",
       "      <td>Olinville</td>\n",
       "      <td>59.428571</td>\n",
       "      <td>7</td>\n",
       "    </tr>\n",
       "  </tbody>\n",
       "</table>\n",
       "</div>"
      ],
      "text/plain": [
       "                  neighbourhood  average_price  count\n",
       "221                 South Beach      45.000000      4\n",
       "220                 Bull's Head      49.666667      3\n",
       "219               Port Richmond      51.222222      9\n",
       "218                   Soundview      52.055556     18\n",
       "217                New Brighton      52.250000      4\n",
       "216  Bay Terrace, Staten Island      55.000000      1\n",
       "215                 Hunts Point      56.583333     24\n",
       "214          University Heights      57.826087     23\n",
       "213                  Grant City      58.400000     10\n",
       "212                   Olinville      59.428571      7"
      ]
     },
     "execution_count": 6,
     "metadata": {},
     "output_type": "execute_result"
    }
   ],
   "source": [
    "# we also would like to have the corresponding pivot table of the lowest 10\n",
    "df_neigh_cheap.sort_values('average_price', inplace=True)\n",
    "df_neigh_cheap"
   ]
  },
  {
   "cell_type": "markdown",
   "id": "87ac7c97-b384-42d2-abdb-a26e98b12179",
   "metadata": {},
   "source": [
    "#  Now make all four widgets (the two charts and the two dataframes) in a Tableau dashboard!"
   ]
  },
  {
   "cell_type": "markdown",
   "id": "f545e90f",
   "metadata": {},
   "source": [
    "##### Link:\n",
    "https://public.tableau.com/app/profile/robert.neagu/viz/CTP_Week3/Dashboard1#2"
   ]
  }
 ],
 "metadata": {
  "kernelspec": {
   "display_name": "Python 3 (ipykernel)",
   "language": "python",
   "name": "python3"
  },
  "language_info": {
   "codemirror_mode": {
    "name": "ipython",
    "version": 3
   },
   "file_extension": ".py",
   "mimetype": "text/x-python",
   "name": "python",
   "nbconvert_exporter": "python",
   "pygments_lexer": "ipython3",
   "version": "3.11.9"
  }
 },
 "nbformat": 4,
 "nbformat_minor": 5
}
